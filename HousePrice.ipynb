{
 "cells": [
  {
   "cell_type": "markdown",
   "metadata": {},
   "source": [
    "This code uses data set from kaggle to predict the price of a given given the feaures like Street, Lot size and year built.\n",
    "We are using Random Forest Regression for solving the problem, this is avaliable in scikit-learn.\n",
    "Lets code."
   ]
  },
  {
   "cell_type": "markdown",
   "metadata": {},
   "source": [
    "# Data preprocessing  "
   ]
  },
  {
   "cell_type": "code",
   "execution_count": 93,
   "metadata": {},
   "outputs": [],
   "source": [
    "import csv\n",
    "import numpy\n",
    "_input = []\n",
    "_output = []\n",
    "\n",
    "def fetch_input(filename):\n",
    "    with open(filename,'r') as csvfile:\n",
    "        data = csv.reader(csvfile)\n",
    "        data.next()\n",
    "        for row in data:\n",
    "            _input.append(row[1:80])\n",
    "            _output.append(row[80])\n",
    "    return _input,_output"
   ]
  },
  {
   "cell_type": "code",
   "execution_count": 94,
   "metadata": {},
   "outputs": [],
   "source": [
    "X, y = fetch_input('train.csv')"
   ]
  },
  {
   "cell_type": "code",
   "execution_count": 95,
   "metadata": {},
   "outputs": [],
   "source": [
    "from category_encoders.ordinal import OrdinalEncoder\n",
    "from sklearn.preprocessing import LabelEncoder\n",
    "\n",
    "def ordinalEncode(data):\n",
    "    enc = OrdinalEncoder()\n",
    "    enc.fit(data)\n",
    "    return enc.transform(data)\n",
    "X = ordinalEncode(X)"
   ]
  },
  {
   "cell_type": "code",
   "execution_count": 96,
   "metadata": {
    "scrolled": true
   },
   "outputs": [
    {
     "data": {
      "text/plain": [
       "RandomForestRegressor(bootstrap=True, criterion='mse', max_depth=None,\n",
       "           max_features='auto', max_leaf_nodes=None,\n",
       "           min_impurity_decrease=0.0, min_impurity_split=None,\n",
       "           min_samples_leaf=1, min_samples_split=2,\n",
       "           min_weight_fraction_leaf=0.0, n_estimators=100, n_jobs=1,\n",
       "           oob_score=False, random_state=None, verbose=0, warm_start=False)"
      ]
     },
     "execution_count": 96,
     "metadata": {},
     "output_type": "execute_result"
    }
   ],
   "source": [
    "from sklearn.ensemble import RandomForestRegressor\n",
    "regr = RandomForestRegressor(n_estimators = 100)\n",
    "\n",
    "regr.fit(X,y)"
   ]
  },
  {
   "cell_type": "code",
   "execution_count": 97,
   "metadata": {},
   "outputs": [],
   "source": [
    "test_input = []\n",
    "test_output = []\n",
    "\n",
    "def fetch_test(filename):\n",
    "    with open(filename,'r') as csvfile:\n",
    "        data = csv.reader(csvfile)\n",
    "        data.next()\n",
    "        for row in data:\n",
    "            test_input.append(row[1:80])\n",
    "    return test_input"
   ]
  },
  {
   "cell_type": "code",
   "execution_count": 98,
   "metadata": {},
   "outputs": [],
   "source": [
    "testX = fetch_test('test.csv')\n",
    "testX = ordinalEncode(testX)"
   ]
  },
  {
   "cell_type": "code",
   "execution_count": 99,
   "metadata": {},
   "outputs": [
    {
     "name": "stdout",
     "output_type": "stream",
     "text": [
      "[123130.   149874.86 146441.6  ... 148381.5  125897.26 206685.06]\n"
     ]
    }
   ],
   "source": [
    "test_output = regr.predict(testX)\n",
    "\n",
    "file = open('submit.csv','w')\n",
    "file.write('Id,SalePrice\\n')\n",
    "count = 1461\n",
    "print(test_output)\n",
    "for each in numpy.nditer(test_output):\n",
    "#     print(each)\n",
    "    file.write(str(count))\n",
    "    count += 1\n",
    "    file.write(',')\n",
    "    file.write(str(each))\n",
    "    file.write('\\n')\n",
    "file.close()"
   ]
  },
  {
   "cell_type": "code",
   "execution_count": null,
   "metadata": {},
   "outputs": [],
   "source": []
  }
 ],
 "metadata": {
  "kernelspec": {
   "display_name": "Python 2",
   "language": "python",
   "name": "python2"
  },
  "language_info": {
   "codemirror_mode": {
    "name": "ipython",
    "version": 2
   },
   "file_extension": ".py",
   "mimetype": "text/x-python",
   "name": "python",
   "nbconvert_exporter": "python",
   "pygments_lexer": "ipython2",
   "version": "2.7.14"
  }
 },
 "nbformat": 4,
 "nbformat_minor": 2
}
